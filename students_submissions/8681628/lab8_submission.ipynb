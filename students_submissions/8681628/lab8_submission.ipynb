{
 "cells": [
  {
   "cell_type": "code",
   "execution_count": 1,
   "id": "4e84b0ff",
   "metadata": {},
   "outputs": [],
   "source": [
    "import tensorflow as tf"
   ]
  },
  {
   "cell_type": "code",
   "execution_count": 2,
   "id": "ea620017",
   "metadata": {},
   "outputs": [
    {
     "name": "stdout",
     "output_type": "stream",
     "text": [
      "tf.Tensor(-227.81746, shape=(), dtype=float32)\n"
     ]
    }
   ],
   "source": [
    "print(tf.reduce_sum(tf.random.normal([1000, 1000])))"
   ]
  },
  {
   "cell_type": "code",
   "execution_count": 3,
   "id": "635b8f7c",
   "metadata": {},
   "outputs": [
    {
     "name": "stdout",
     "output_type": "stream",
     "text": [
      "Tensor: tensor([10, 10])\n",
      "PyTorch version: 2.1.0+cpu\n",
      "Succeeded\n"
     ]
    }
   ],
   "source": [
    "import torch\n",
    "print(f'Tensor: {torch.tensor([10, 10])}')\n",
    "print(f'PyTorch version: {torch.__version__}')    \n",
    "print('Succeeded')\n"
   ]
  },
  {
   "cell_type": "markdown",
   "id": "d3464452",
   "metadata": {},
   "source": [
    "# Pytorch"
   ]
  },
  {
   "cell_type": "markdown",
   "id": "15612cb2",
   "metadata": {},
   "source": [
    "### Calculate the dot product between two vectors each of length 3 "
   ]
  },
  {
   "cell_type": "code",
   "execution_count": 11,
   "id": "d986ec24",
   "metadata": {},
   "outputs": [
    {
     "name": "stdout",
     "output_type": "stream",
     "text": [
      " Vector 1: tensor([0.4195, 0.9295, 0.2033])\n",
      " Vector 2: tensor([0.7640, 0.0032, 0.4926])\n",
      "Dot Product: 0.423617959022522\n"
     ]
    }
   ],
   "source": [
    "import torch\n",
    "\n",
    "vector1 = torch.tensor([0.4195, 0.9295, 0.2033])\n",
    "vector2 = torch.tensor([0.7640, 0.0032, 0.4926])\n",
    "dot_product = torch.dot(vector1, vector2)\n",
    "\n",
    "print(\" Vector 1:\", vector1)\n",
    "print(\" Vector 2:\", vector2)\n",
    "print(\"Dot Product:\", dot_product.item())\n",
    "\n"
   ]
  },
  {
   "cell_type": "markdown",
   "id": "f24ff2e9",
   "metadata": {},
   "source": [
    "### Calculate the matrix multiplication of two 2-dimensional matrices, each with a size of (2,2)"
   ]
  },
  {
   "cell_type": "code",
   "execution_count": 12,
   "id": "71326de8",
   "metadata": {},
   "outputs": [
    {
     "name": "stdout",
     "output_type": "stream",
     "text": [
      "Matrix 1:\n",
      "tensor([[0.0333, 0.3678],\n",
      "        [0.2875, 0.1362]])\n",
      "\n",
      " Matrix 2:\n",
      "tensor([[0.2262, 0.8530],\n",
      "        [0.2330, 0.7130]])\n",
      "\n",
      "Matrix Multiplication Result:\n",
      "tensor([[0.0932, 0.2906],\n",
      "        [0.0968, 0.3423]])\n"
     ]
    }
   ],
   "source": [
    "matrix1 = torch.tensor([[0.0333, 0.3678],\n",
    "        [0.2875, 0.1362]])\n",
    "matrix2 = torch.tensor([[0.2262, 0.8530],\n",
    "        [0.2330, 0.7130]])\n",
    "\n",
    "matrix_product = torch.mm(matrix1, matrix2)\n",
    "\n",
    "print(\"Matrix 1:\")\n",
    "print(matrix1)\n",
    "print(\"\\n Matrix 2:\")\n",
    "print(matrix2)\n",
    "print(\"\\nMatrix Multiplication Result:\")\n",
    "print(matrix_product)\n"
   ]
  },
  {
   "cell_type": "markdown",
   "id": "4271e9bc",
   "metadata": {},
   "source": [
    "# Tensorflow"
   ]
  },
  {
   "cell_type": "markdown",
   "id": "baa17d6f",
   "metadata": {},
   "source": [
    "### Calculate the dot product between the same vectors as above (re-define them in Tensorflow) "
   ]
  },
  {
   "cell_type": "code",
   "execution_count": 14,
   "id": "54163a88",
   "metadata": {},
   "outputs": [
    {
     "name": "stdout",
     "output_type": "stream",
     "text": [
      "Dot Product (TensorFlow): 0.42361796\n"
     ]
    }
   ],
   "source": [
    "import tensorflow as tf\n",
    "\n",
    "vector1_tf = tf.constant([0.4195, 0.9295, 0.2033], dtype=tf.float32)\n",
    "vector2_tf = tf.constant([0.7640, 0.0032, 0.4926], dtype=tf.float32)\n",
    "\n",
    "dot_product_tf = tf.tensordot(vector1_tf, vector2_tf, axes=1)\n",
    "\n",
    "print(\"Dot Product (TensorFlow):\", dot_product_tf.numpy())\n",
    "\n"
   ]
  },
  {
   "cell_type": "markdown",
   "id": "0b2f6923",
   "metadata": {},
   "source": [
    "### Calculate the matrix multiplication of the same matrics as above (re-define them in Tensorflow) "
   ]
  },
  {
   "cell_type": "code",
   "execution_count": 15,
   "id": "07e5a0c3",
   "metadata": {},
   "outputs": [
    {
     "name": "stdout",
     "output_type": "stream",
     "text": [
      "\n",
      "Matrix Multiplication Result (TensorFlow):\n",
      "[[0.09322986 0.29064628]\n",
      " [0.0967671  0.34234807]]\n"
     ]
    }
   ],
   "source": [
    "matrix1_tf = tf.constant([[0.0333, 0.3678],\n",
    "        [0.2875, 0.1362]], dtype=tf.float32)\n",
    "matrix2_tf = tf.constant([[0.2262, 0.8530],\n",
    "        [0.2330, 0.7130]], dtype=tf.float32)\n",
    "\n",
    "matrix_product_tf = tf.linalg.matmul(matrix1_tf, matrix2_tf)\n",
    "\n",
    "print(\"\\nMatrix Multiplication Result (TensorFlow):\")\n",
    "print(matrix_product_tf.numpy())\n"
   ]
  },
  {
   "cell_type": "code",
   "execution_count": null,
   "id": "9e24c3a2",
   "metadata": {},
   "outputs": [],
   "source": []
  }
 ],
 "metadata": {
  "kernelspec": {
   "display_name": "Python 3 (ipykernel)",
   "language": "python",
   "name": "python3"
  },
  "language_info": {
   "codemirror_mode": {
    "name": "ipython",
    "version": 3
   },
   "file_extension": ".py",
   "mimetype": "text/x-python",
   "name": "python",
   "nbconvert_exporter": "python",
   "pygments_lexer": "ipython3",
   "version": "3.11.6"
  }
 },
 "nbformat": 4,
 "nbformat_minor": 5
}
